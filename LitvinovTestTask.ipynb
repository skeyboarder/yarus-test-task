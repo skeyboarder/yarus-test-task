{
 "cells": [
  {
   "cell_type": "markdown",
   "metadata": {
    "heading_collapsed": true
   },
   "source": [
    "# Import"
   ]
  },
  {
   "cell_type": "code",
   "execution_count": 88,
   "metadata": {
    "hidden": true
   },
   "outputs": [],
   "source": [
    "import re \n",
    "import pandas as pd\n",
    "import numpy as np\n",
    "import sys\n",
    "import numpy\n",
    "import itertools\n",
    "import more_itertools\n",
    "from matplotlib.pyplot import figure\n",
    "from matplotlib import pyplot as plt\n",
    "from scipy.spatial.distance import cosine\n",
    "from sklearn.metrics.pairwise import cosine_similarity\n",
    "from scipy.spatial import distance\n",
    "from numpy.linalg import norm\n",
    "from scipy.stats import pearsonr\n",
    "from collections import Counter\n",
    "from dateutil.parser import parse\n",
    "from sklearn.feature_extraction.text import TfidfVectorizer\n",
    "from sklearn.metrics.pairwise import linear_kernel\n",
    "pd.option_context('display.max_rows', None, 'display.max_columns', None)\n",
    "\n",
    "numpy.set_printoptions(threshold=sys.maxsize)"
   ]
  },
  {
   "cell_type": "code",
   "execution_count": 2,
   "metadata": {
    "hidden": true
   },
   "outputs": [],
   "source": [
    "links = pd.read_csv('links.csv')\n",
    "movies = pd.read_csv('movies.csv')\n",
    "ratings = pd.read_csv('ratings.csv')\n",
    "tags = pd.read_csv('tags.csv')\n",
    "genres = [\"Action\",\n",
    "\"Adventure\",\n",
    "\"Animation\",\n",
    "\"Children\",\n",
    "\"Comedy\",\n",
    "\"Crime\",\n",
    "\"Documentary\",\n",
    "\"Drama\",\n",
    "\"Fantasy\",\n",
    "\"Film-Noir\",\n",
    "\"Horror\",\n",
    "\"Musical\",\n",
    "\"Mystery\",\n",
    "\"Romance\",\n",
    "\"Sci-Fi\",\n",
    "\"Thriller\",\n",
    "\"War\",\n",
    "\"Western\"]"
   ]
  },
  {
   "cell_type": "code",
   "execution_count": 70,
   "metadata": {
    "hidden": true
   },
   "outputs": [],
   "source": [
    "userIds=ratings['userId'].unique()[::4]"
   ]
  },
  {
   "cell_type": "code",
   "execution_count": 4,
   "metadata": {
    "hidden": true
   },
   "outputs": [],
   "source": [
    "movieId = movies[\"movieId\"].to_list()"
   ]
  },
  {
   "cell_type": "code",
   "execution_count": 10,
   "metadata": {
    "hidden": true
   },
   "outputs": [
    {
     "name": "stdout",
     "output_type": "stream",
     "text": [
      "(9742, 18)\n"
     ]
    }
   ],
   "source": [
    "itemvectors = np.zeros((9742, 18))\n",
    "print(itemvectors.shape)"
   ]
  },
  {
   "cell_type": "code",
   "execution_count": 11,
   "metadata": {
    "hidden": true
   },
   "outputs": [],
   "source": [
    "for index, row in movies.iterrows():\n",
    "    for i in range(18):\n",
    "        if genres[i] not in str(row[2]): \n",
    "            continue\n",
    "        else:\n",
    "            itemvectors[index][i]=1        "
   ]
  },
  {
   "cell_type": "code",
   "execution_count": 12,
   "metadata": {
    "hidden": true
   },
   "outputs": [],
   "source": [
    "item_vectors_df = pd.DataFrame(data=itemvectors, index=movieId, columns=genres)"
   ]
  },
  {
   "cell_type": "markdown",
   "metadata": {},
   "source": [
    "# Feature Mining"
   ]
  },
  {
   "cell_type": "markdown",
   "metadata": {
    "heading_collapsed": true
   },
   "source": [
    "## Years"
   ]
  },
  {
   "cell_type": "code",
   "execution_count": 13,
   "metadata": {
    "hidden": true
   },
   "outputs": [],
   "source": [
    "movies_years = movies[\"title\"].tolist()"
   ]
  },
  {
   "cell_type": "code",
   "execution_count": 14,
   "metadata": {
    "hidden": true
   },
   "outputs": [],
   "source": [
    "years=[]\n",
    "movies_wo_years=[]\n",
    "for title in movies_years:\n",
    "    d = re.findall('\\(\\d{4}\\)', title)\n",
    "    movies_wo_years.append(re.sub('\\(\\d{4}\\)', '', title))\n",
    "    d = re.findall('(\\d{4})', str(d))\n",
    "    if d == []:\n",
    "        d=['0']\n",
    "    years.append(d)\n",
    "years_list=list(itertools.chain.from_iterable(years))\n",
    "years_list = [ int(x) for x in years_list ]\n",
    "movies[\"year\"]=years_list\n",
    "movies['title']=movies_wo_years"
   ]
  },
  {
   "cell_type": "code",
   "execution_count": 16,
   "metadata": {
    "collapsed": true,
    "hidden": true
   },
   "outputs": [
    {
     "data": {
      "text/plain": [
       "Counter({0: 13,\n",
       "         1902: 1,\n",
       "         1903: 1,\n",
       "         1908: 1,\n",
       "         1915: 1,\n",
       "         1916: 4,\n",
       "         1917: 1,\n",
       "         1919: 1,\n",
       "         1920: 2,\n",
       "         1921: 1,\n",
       "         1922: 1,\n",
       "         1923: 4,\n",
       "         1924: 5,\n",
       "         1925: 4,\n",
       "         1926: 5,\n",
       "         1927: 7,\n",
       "         1928: 4,\n",
       "         1929: 4,\n",
       "         1930: 5,\n",
       "         1931: 14,\n",
       "         1932: 9,\n",
       "         1933: 12,\n",
       "         1934: 11,\n",
       "         1935: 13,\n",
       "         1936: 18,\n",
       "         1937: 16,\n",
       "         1938: 15,\n",
       "         1939: 23,\n",
       "         1940: 25,\n",
       "         1941: 18,\n",
       "         1942: 23,\n",
       "         1943: 10,\n",
       "         1944: 16,\n",
       "         1945: 17,\n",
       "         1946: 23,\n",
       "         1947: 20,\n",
       "         1948: 20,\n",
       "         1949: 25,\n",
       "         1950: 21,\n",
       "         1951: 22,\n",
       "         1952: 16,\n",
       "         1953: 30,\n",
       "         1954: 23,\n",
       "         1955: 36,\n",
       "         1956: 30,\n",
       "         1957: 33,\n",
       "         1958: 31,\n",
       "         1959: 37,\n",
       "         1960: 37,\n",
       "         1961: 34,\n",
       "         1962: 40,\n",
       "         1963: 39,\n",
       "         1964: 43,\n",
       "         1965: 47,\n",
       "         1966: 42,\n",
       "         1967: 42,\n",
       "         1968: 42,\n",
       "         1969: 35,\n",
       "         1970: 33,\n",
       "         1971: 47,\n",
       "         1972: 39,\n",
       "         1973: 59,\n",
       "         1974: 45,\n",
       "         1975: 42,\n",
       "         1976: 44,\n",
       "         1977: 63,\n",
       "         1978: 59,\n",
       "         1979: 69,\n",
       "         1980: 89,\n",
       "         1981: 92,\n",
       "         1982: 87,\n",
       "         1983: 83,\n",
       "         1984: 101,\n",
       "         1985: 126,\n",
       "         1986: 139,\n",
       "         1987: 153,\n",
       "         1988: 165,\n",
       "         1989: 142,\n",
       "         1990: 147,\n",
       "         1991: 147,\n",
       "         1992: 167,\n",
       "         1993: 198,\n",
       "         1994: 237,\n",
       "         1995: 259,\n",
       "         1996: 276,\n",
       "         1997: 260,\n",
       "         1998: 258,\n",
       "         1999: 263,\n",
       "         2000: 283,\n",
       "         2001: 294,\n",
       "         2002: 311,\n",
       "         2003: 279,\n",
       "         2004: 279,\n",
       "         2005: 273,\n",
       "         2006: 295,\n",
       "         2007: 284,\n",
       "         2008: 269,\n",
       "         2009: 282,\n",
       "         2010: 247,\n",
       "         2011: 254,\n",
       "         2012: 233,\n",
       "         2013: 239,\n",
       "         2014: 278,\n",
       "         2015: 274,\n",
       "         2016: 218,\n",
       "         2017: 147,\n",
       "         2018: 41})"
      ]
     },
     "execution_count": 16,
     "metadata": {},
     "output_type": "execute_result"
    }
   ],
   "source": [
    "Counter(sorted(years_list))"
   ]
  },
  {
   "cell_type": "markdown",
   "metadata": {
    "hidden": true
   },
   "source": [
    "Разделим промежутки по годам:\n",
    "1й. (0-1979]\n",
    "2й. 1980-1989\n",
    "3й. 1990-1999\n",
    "4й. 2000-2010\n",
    "5й. 2010-2018"
   ]
  },
  {
   "cell_type": "code",
   "execution_count": 17,
   "metadata": {
    "hidden": true
   },
   "outputs": [],
   "source": [
    "yearvectors = np.zeros((9742, 5))\n",
    "for index, row in movies.iterrows():\n",
    "    if (row[3]>0) and (row[3]<1980): \n",
    "        yearvectors[index][0]=1\n",
    "    elif(row[3]>1979) and (row[3]<1990):\n",
    "        yearvectors[index][1]=1\n",
    "    elif(row[3]>1989) and (row[3]<2000):\n",
    "        yearvectors[index][2]=1\n",
    "    elif(row[3]>1999) and (row[3]<2010):\n",
    "        yearvectors[index][3]=1\n",
    "    elif(row[3]>2009):\n",
    "        yearvectors[index][4]=1"
   ]
  },
  {
   "cell_type": "code",
   "execution_count": 18,
   "metadata": {
    "hidden": true
   },
   "outputs": [],
   "source": [
    "yearvectors_df = pd.DataFrame(data=yearvectors, index=movieId, columns=['<1979', '1980-1989', '1990-1999', '2000-2010', '2010-2018'])"
   ]
  },
  {
   "cell_type": "code",
   "execution_count": 19,
   "metadata": {
    "hidden": true
   },
   "outputs": [],
   "source": [
    "item_vectors_df = item_vectors_df.merge(yearvectors_df, left_index=True, right_index=True)"
   ]
  },
  {
   "cell_type": "markdown",
   "metadata": {
    "heading_collapsed": true
   },
   "source": [
    "## TF-IDF"
   ]
  },
  {
   "cell_type": "code",
   "execution_count": 97,
   "metadata": {
    "hidden": true
   },
   "outputs": [],
   "source": [
    "tfidf = TfidfVectorizer(stop_words='english')\n",
    "tfidf_matrix = tfidf.fit_transform(movies['title'])"
   ]
  },
  {
   "cell_type": "markdown",
   "metadata": {
    "heading_collapsed": true
   },
   "source": [
    "# Metrics and data split"
   ]
  },
  {
   "cell_type": "markdown",
   "metadata": {
    "hidden": true
   },
   "source": [
    "Будем замерять Precision, Recall и F1, Map"
   ]
  },
  {
   "cell_type": "code",
   "execution_count": 23,
   "metadata": {
    "hidden": true
   },
   "outputs": [],
   "source": [
    "def Precision(relevant, retrieved):\n",
    "    precision = len(set(relevant) & set(retrieved))/len(retrieved)\n",
    "    return precision"
   ]
  },
  {
   "cell_type": "code",
   "execution_count": 24,
   "metadata": {
    "hidden": true
   },
   "outputs": [],
   "source": [
    "def Recall(relevant, retrieved):\n",
    "    recall = len(set(relevant) & set(retrieved))/len(relevant)\n",
    "    return recall"
   ]
  },
  {
   "cell_type": "code",
   "execution_count": 25,
   "metadata": {
    "hidden": true
   },
   "outputs": [],
   "source": [
    "def F1(relevant, retrieved):\n",
    "    f1=2*(Precision(relevant, retrieved)*Recall(relevant, retrieved))/(Precision(relevant, retrieved)+Recall(relevant, retrieved))\n",
    "    return f1"
   ]
  },
  {
   "cell_type": "code",
   "execution_count": 73,
   "metadata": {
    "hidden": true
   },
   "outputs": [],
   "source": [
    "def r_maker(approach, userId):\n",
    "    if approach=='sim':\n",
    "        dictt=cosine_similarity_test(userId)\n",
    "    elif approach=='mink':\n",
    "        dictt=minkowski_distance_test(userId)\n",
    "    elif approach=='tfidf':\n",
    "        dictt=TF_IDF_test(userId)\n",
    "        \n",
    "    tp=test_train_spliting(userId)[1]\n",
    "    r=[]\n",
    "    for i in dictt.keys():\n",
    "        if i in tp:\n",
    "            r.append(1)\n",
    "        else:\n",
    "            r.append(0)\n",
    "    return r"
   ]
  },
  {
   "cell_type": "code",
   "execution_count": 27,
   "metadata": {
    "hidden": true
   },
   "outputs": [],
   "source": [
    "def Precision_at_k(k, approach, userId):\n",
    "    r = r_maker(approach, userId)  \n",
    "    r = np.asarray(r)[:k]\n",
    "    return np.mean(r)"
   ]
  },
  {
   "cell_type": "code",
   "execution_count": 28,
   "metadata": {
    "hidden": true
   },
   "outputs": [],
   "source": [
    "def Avg_Precision(approach, userId):\n",
    "    r = r_maker(approach, userId) \n",
    "    r = np.asarray(r)\n",
    "    out = [Precision_at_k(k + 1, approach, userId) for k in range(r.size) if r[k]]\n",
    "    return np.mean(out)"
   ]
  },
  {
   "cell_type": "code",
   "execution_count": 67,
   "metadata": {
    "hidden": true
   },
   "outputs": [],
   "source": [
    "def MAP(approach):\n",
    "    out=[]\n",
    "    for i in userIds:\n",
    "        r = r_maker(approach, i)\n",
    "        r = np.asarray(r)\n",
    "        Pr_at_k = [np.mean(r[:k+1]) for k in range(r.size)]\n",
    "        Avg_Pr=np.mean(Pr_at_k)\n",
    "        out.append(Avg_Pr)\n",
    "    return np.mean(out)"
   ]
  },
  {
   "cell_type": "code",
   "execution_count": 30,
   "metadata": {
    "hidden": true
   },
   "outputs": [],
   "source": [
    "def metrics(userId, approach, n):\n",
    "    a=test_train_spliting(userId)[1]\n",
    "    b=top_n(approach, n)\n",
    "    return print('\\n', 'Precision:',Precision(a,b), '\\n', 'Recall:',Recall(a,b), '\\n', 'F1:', F1(a,b))    "
   ]
  },
  {
   "cell_type": "code",
   "execution_count": 31,
   "metadata": {
    "hidden": true
   },
   "outputs": [],
   "source": [
    "def test_train_spliting(userId):\n",
    "    ratings_UserId=ratings.loc[(ratings['userId'] == userId)] \n",
    "\n",
    "    #выбрали 80й перцентиль лучших по рейтингу фильмов, чтобы они обязательно присутствовали в тестовой выборке\n",
    "    top_ratings_UserId=ratings_UserId.loc[(ratings_UserId['rating'] >= np.percentile(ratings_UserId['rating'].to_numpy(), 80))]\n",
    "    \n",
    "    #выберем тестовые данные\n",
    "    tp=top_ratings_UserId.iloc[::3]['movieId'].tolist()\n",
    "    top_train=top_ratings_UserId.loc[~top_ratings_UserId['movieId'].isin(tp)]['movieId'].tolist()\n",
    "    fn_fp=ratings_UserId.loc[~ratings_UserId['movieId'].isin(tp+top_train)].iloc[::3]['movieId'].tolist()\n",
    "    test_ids=tp+fn_fp\n",
    "    #test_item_vectors_df = item_vectors_df.loc[item_vectors_df.index.isin(test_ids)]\n",
    "\n",
    "    #выберем на чём будем обучать\n",
    "    train_ids=ratings_UserId.loc[~ratings_UserId['movieId'].isin(test_ids)]['movieId'].tolist()\n",
    "    #train_item_vectors_df = item_vectors_df.loc[item_vectors_df.index.isin(train_ids)]\n",
    "    return test_ids, tp, fn_fp, train_ids"
   ]
  },
  {
   "cell_type": "code",
   "execution_count": 32,
   "metadata": {
    "hidden": true
   },
   "outputs": [],
   "source": [
    "def top_n(approach, n):\n",
    "    approach=dict(sorted(approach.items(), key=lambda item: item[1], reverse=True))\n",
    "    if n==0:\n",
    "        n=len(test_train_spliting(userId)[1])\n",
    "    top_n = more_itertools.take(n, approach.keys())\n",
    "    return top_n"
   ]
  },
  {
   "cell_type": "markdown",
   "metadata": {
    "heading_collapsed": true
   },
   "source": [
    "# Cosine similarity"
   ]
  },
  {
   "cell_type": "markdown",
   "metadata": {
    "hidden": true
   },
   "source": [
    "Считаем вектор пользователя из трейн датасета "
   ]
  },
  {
   "cell_type": "code",
   "execution_count": 34,
   "metadata": {
    "hidden": true
   },
   "outputs": [],
   "source": [
    "def cosine_similarity_test(userId):\n",
    "        test_ids, tp, fn_fp, train_ids=test_train_spliting(userId)\n",
    "        #юзер-вектор\n",
    "        train_user_vector=item_vectors_df.iloc[0]*0 #строка из нулей\n",
    "        train_item_vectors_df=item_vectors_df.loc[train_ids]\n",
    "        \n",
    "        for index, row in ratings.loc[ratings['movieId'].isin(train_ids)].iterrows():\n",
    "               train_user_vector=train_user_vector+train_item_vectors_df.loc[int(row[1])]*int(row[2])\n",
    "        \n",
    "        similarity={}\n",
    "        test_item_vectors_df=item_vectors_df.loc[test_ids]\n",
    "        for index,row in test_item_vectors_df.iterrows():\n",
    "            similarity[index]=(cosine_similarity(train_user_vector.to_numpy().reshape(1,-1),row.to_numpy().reshape(1,-1))[0][0])\n",
    "        return(similarity)"
   ]
  },
  {
   "cell_type": "code",
   "execution_count": 35,
   "metadata": {
    "hidden": true
   },
   "outputs": [
    {
     "name": "stdout",
     "output_type": "stream",
     "text": [
      "\n",
      " Precision: 0.3 \n",
      " Recall: 0.17647058823529413 \n",
      " F1: 0.22222222222222224\n"
     ]
    }
   ],
   "source": [
    "metrics(10, cosine_similarity_test(10), 10)"
   ]
  },
  {
   "cell_type": "code",
   "execution_count": 71,
   "metadata": {
    "hidden": true
   },
   "outputs": [
    {
     "data": {
      "text/plain": [
       "0.7134710113187342"
      ]
     },
     "execution_count": 71,
     "metadata": {},
     "output_type": "execute_result"
    }
   ],
   "source": [
    "MAP('sim')"
   ]
  },
  {
   "cell_type": "markdown",
   "metadata": {
    "heading_collapsed": true
   },
   "source": [
    "# Minkowski distance"
   ]
  },
  {
   "cell_type": "code",
   "execution_count": 74,
   "metadata": {
    "hidden": true
   },
   "outputs": [],
   "source": [
    "def minkowski_distance_test(userId):\n",
    "        test_ids, tp, fn_fp, train_ids=test_train_spliting(userId)\n",
    "        #юзер-вектор\n",
    "        train_user_vector=item_vectors_df.iloc[0]*0 #строка из нулей\n",
    "        train_item_vectors_df=item_vectors_df.loc[train_ids]\n",
    "        \n",
    "        for index, row in ratings.loc[ratings['movieId'].isin(train_ids)].iterrows():\n",
    "               train_user_vector=train_user_vector+train_item_vectors_df.loc[int(row[1])]*int(row[2])\n",
    "        \n",
    "        dist={}\n",
    "        test_item_vectors_df=item_vectors_df.loc[test_ids]\n",
    "        for index,row in test_item_vectors_df.iterrows():\n",
    "            dist[index]=(distance.minkowski(train_user_vector.to_numpy(),row.to_numpy()))\n",
    "        return(dist)"
   ]
  },
  {
   "cell_type": "code",
   "execution_count": 98,
   "metadata": {
    "hidden": true
   },
   "outputs": [
    {
     "name": "stdout",
     "output_type": "stream",
     "text": [
      "\n",
      " Precision: 0.5 \n",
      " Recall: 0.29411764705882354 \n",
      " F1: 0.37037037037037035\n",
      "None\n"
     ]
    }
   ],
   "source": [
    "print(metrics(10, minkowski_distance_test(10), 10))"
   ]
  },
  {
   "cell_type": "markdown",
   "metadata": {
    "hidden": true
   },
   "source": [
    "Растояние Миньковского помимо самых весомых жанров захватывает ещё второстепенные, поэтому оно получше"
   ]
  },
  {
   "cell_type": "code",
   "execution_count": 76,
   "metadata": {
    "hidden": true,
    "scrolled": true
   },
   "outputs": [
    {
     "data": {
      "text/plain": [
       "0.7134710113187342"
      ]
     },
     "execution_count": 76,
     "metadata": {},
     "output_type": "execute_result"
    }
   ],
   "source": [
    "MAP('mink')"
   ]
  },
  {
   "cell_type": "markdown",
   "metadata": {
    "hidden": true
   },
   "source": [
    "Но по-видимому в среднем это не играет роли"
   ]
  },
  {
   "cell_type": "markdown",
   "metadata": {
    "heading_collapsed": true
   },
   "source": [
    "# TF-IDF"
   ]
  },
  {
   "cell_type": "code",
   "execution_count": 77,
   "metadata": {
    "hidden": true
   },
   "outputs": [],
   "source": [
    "def TF_IDF_test(userId):\n",
    "    test_ids, tp, fn_fp, train_ids=test_train_spliting(userId)\n",
    "\n",
    "    train_tfidf_matrix=tfidf_matrix[movies.loc[movies[\"movieId\"].isin(train_ids)].index]\n",
    "    rating_vector=(ratings.loc[(ratings[\"movieId\"].isin(train_ids))&(ratings['userId']==userId)].sort_values('movieId')['rating']).to_numpy()\n",
    "    user_vector=0\n",
    "    for i in range(train_tfidf_matrix.shape[0]):\n",
    "        user_vector+=rating_vector[i]*train_tfidf_matrix[i]\n",
    "    sim={}\n",
    "    for i in movies.loc[movies[\"movieId\"].isin(test_ids)].index:\n",
    "        vector=tfidf_matrix[i].toarray()\n",
    "        i=movies.iloc[i]['movieId']\n",
    "        sim[i]=(cosine_similarity(user_vector,vector)[0][0])\n",
    "    return sim"
   ]
  },
  {
   "cell_type": "code",
   "execution_count": 78,
   "metadata": {
    "hidden": true
   },
   "outputs": [
    {
     "name": "stdout",
     "output_type": "stream",
     "text": [
      "\n",
      " Precision: 0.5 \n",
      " Recall: 0.29411764705882354 \n",
      " F1: 0.37037037037037035\n",
      "None\n"
     ]
    }
   ],
   "source": [
    "print(metrics(10, TF_IDF_test(10), 10))"
   ]
  },
  {
   "cell_type": "code",
   "execution_count": 79,
   "metadata": {
    "hidden": true
   },
   "outputs": [
    {
     "data": {
      "text/plain": [
       "0.40030665570747465"
      ]
     },
     "execution_count": 79,
     "metadata": {},
     "output_type": "execute_result"
    }
   ],
   "source": [
    "MAP('tfidf')"
   ]
  },
  {
   "cell_type": "markdown",
   "metadata": {
    "heading_collapsed": true
   },
   "source": [
    "# Results"
   ]
  },
  {
   "cell_type": "code",
   "execution_count": 89,
   "metadata": {
    "hidden": true
   },
   "outputs": [],
   "source": [
    "def cosine_similarity_check(userId):\n",
    "        train_ids = ratings.loc[ratings['userId']==userId]['movieId']\n",
    "        test_ids = movies.loc[~movies['movieId'].isin(train_ids)]['movieId']\n",
    "        #юзер-вектор\n",
    "        train_user_vector=item_vectors_df.iloc[0]*0 #строка из нулей\n",
    "        train_item_vectors_df=item_vectors_df.loc[train_ids]\n",
    "        \n",
    "        for index, row in ratings.loc[ratings['movieId'].isin(train_ids)].iterrows():\n",
    "               train_user_vector=train_user_vector+train_item_vectors_df.loc[int(row[1])]*int(row[2])\n",
    "        \n",
    "        similarity={}\n",
    "        test_item_vectors_df=item_vectors_df.loc[test_ids]\n",
    "        for index,row in test_item_vectors_df.iterrows():\n",
    "            similarity[index]=(cosine_similarity(train_user_vector.to_numpy().reshape(1,-1),row.to_numpy().reshape(1,-1))[0][0])\n",
    "        return(similarity)"
   ]
  },
  {
   "cell_type": "code",
   "execution_count": 91,
   "metadata": {
    "hidden": true
   },
   "outputs": [
    {
     "data": {
      "text/html": [
       "<div>\n",
       "<style scoped>\n",
       "    .dataframe tbody tr th:only-of-type {\n",
       "        vertical-align: middle;\n",
       "    }\n",
       "\n",
       "    .dataframe tbody tr th {\n",
       "        vertical-align: top;\n",
       "    }\n",
       "\n",
       "    .dataframe thead th {\n",
       "        text-align: right;\n",
       "    }\n",
       "</style>\n",
       "<table border=\"1\" class=\"dataframe\">\n",
       "  <thead>\n",
       "    <tr style=\"text-align: right;\">\n",
       "      <th></th>\n",
       "      <th>movieId</th>\n",
       "      <th>title</th>\n",
       "      <th>genres</th>\n",
       "      <th>year</th>\n",
       "    </tr>\n",
       "  </thead>\n",
       "  <tbody>\n",
       "    <tr>\n",
       "      <th>2605</th>\n",
       "      <td>3481</td>\n",
       "      <td>High Fidelity</td>\n",
       "      <td>Comedy|Drama|Romance</td>\n",
       "      <td>2000</td>\n",
       "    </tr>\n",
       "    <tr>\n",
       "      <th>2642</th>\n",
       "      <td>3536</td>\n",
       "      <td>Keeping the Faith</td>\n",
       "      <td>Comedy|Drama|Romance</td>\n",
       "      <td>2000</td>\n",
       "    </tr>\n",
       "    <tr>\n",
       "      <th>3460</th>\n",
       "      <td>4719</td>\n",
       "      <td>Osmosis Jones</td>\n",
       "      <td>Action|Animation|Comedy|Crime|Drama|Romance|Th...</td>\n",
       "      <td>2001</td>\n",
       "    </tr>\n",
       "    <tr>\n",
       "      <th>3526</th>\n",
       "      <td>4818</td>\n",
       "      <td>Extreme Days</td>\n",
       "      <td>Action|Adventure|Comedy|Drama</td>\n",
       "      <td>2001</td>\n",
       "    </tr>\n",
       "    <tr>\n",
       "      <th>6094</th>\n",
       "      <td>42015</td>\n",
       "      <td>Casanova</td>\n",
       "      <td>Action|Adventure|Comedy|Drama|Romance</td>\n",
       "      <td>2005</td>\n",
       "    </tr>\n",
       "    <tr>\n",
       "      <th>6219</th>\n",
       "      <td>45672</td>\n",
       "      <td>Click</td>\n",
       "      <td>Adventure|Comedy|Drama|Fantasy|Romance</td>\n",
       "      <td>2006</td>\n",
       "    </tr>\n",
       "    <tr>\n",
       "      <th>6570</th>\n",
       "      <td>55116</td>\n",
       "      <td>Hunting Party, The</td>\n",
       "      <td>Action|Adventure|Comedy|Drama|Thriller</td>\n",
       "      <td>2007</td>\n",
       "    </tr>\n",
       "    <tr>\n",
       "      <th>6819</th>\n",
       "      <td>61071</td>\n",
       "      <td>Sisterhood of the Traveling Pants 2, The</td>\n",
       "      <td>Adventure|Comedy|Drama|Romance</td>\n",
       "      <td>2008</td>\n",
       "    </tr>\n",
       "    <tr>\n",
       "      <th>7174</th>\n",
       "      <td>72142</td>\n",
       "      <td>Love Exposure (Ai No Mukidashi)</td>\n",
       "      <td>Action|Comedy|Drama|Romance</td>\n",
       "      <td>2008</td>\n",
       "    </tr>\n",
       "    <tr>\n",
       "      <th>8597</th>\n",
       "      <td>117646</td>\n",
       "      <td>Dragonheart 2: A New Beginning</td>\n",
       "      <td>Action|Adventure|Comedy|Drama|Fantasy|Thriller</td>\n",
       "      <td>2000</td>\n",
       "    </tr>\n",
       "  </tbody>\n",
       "</table>\n",
       "</div>"
      ],
      "text/plain": [
       "      movieId                                      title  \\\n",
       "2605     3481                             High Fidelity    \n",
       "2642     3536                         Keeping the Faith    \n",
       "3460     4719                             Osmosis Jones    \n",
       "3526     4818                              Extreme Days    \n",
       "6094    42015                                  Casanova    \n",
       "6219    45672                                     Click    \n",
       "6570    55116                        Hunting Party, The    \n",
       "6819    61071  Sisterhood of the Traveling Pants 2, The    \n",
       "7174    72142           Love Exposure (Ai No Mukidashi)    \n",
       "8597   117646            Dragonheart 2: A New Beginning    \n",
       "\n",
       "                                                 genres  year  \n",
       "2605                               Comedy|Drama|Romance  2000  \n",
       "2642                               Comedy|Drama|Romance  2000  \n",
       "3460  Action|Animation|Comedy|Crime|Drama|Romance|Th...  2001  \n",
       "3526                      Action|Adventure|Comedy|Drama  2001  \n",
       "6094              Action|Adventure|Comedy|Drama|Romance  2005  \n",
       "6219             Adventure|Comedy|Drama|Fantasy|Romance  2006  \n",
       "6570             Action|Adventure|Comedy|Drama|Thriller  2007  \n",
       "6819                     Adventure|Comedy|Drama|Romance  2008  \n",
       "7174                        Action|Comedy|Drama|Romance  2008  \n",
       "8597     Action|Adventure|Comedy|Drama|Fantasy|Thriller  2000  "
      ]
     },
     "execution_count": 91,
     "metadata": {},
     "output_type": "execute_result"
    }
   ],
   "source": [
    "movies.loc[movies['movieId'].isin(top_n(cosine_similarity_check(10), 10))]"
   ]
  },
  {
   "cell_type": "code",
   "execution_count": 92,
   "metadata": {
    "hidden": true
   },
   "outputs": [],
   "source": [
    "def minkowski_distance_check(userId):\n",
    "        train_ids = ratings.loc[ratings['userId']==userId]['movieId']\n",
    "        test_ids = movies.loc[~movies['movieId'].isin(train_ids)]['movieId']\n",
    "        #юзер-вектор\n",
    "        train_user_vector=item_vectors_df.iloc[0]*0 #строка из нулей\n",
    "        train_item_vectors_df=item_vectors_df.loc[train_ids]\n",
    "        \n",
    "        for index, row in ratings.loc[ratings['movieId'].isin(train_ids)].iterrows():\n",
    "               train_user_vector=train_user_vector+train_item_vectors_df.loc[int(row[1])]*int(row[2])\n",
    "        \n",
    "        dist={}\n",
    "        test_item_vectors_df=item_vectors_df.loc[test_ids]\n",
    "        for index,row in test_item_vectors_df.iterrows():\n",
    "            dist[index]=(distance.minkowski(train_user_vector.to_numpy(),row.to_numpy()))\n",
    "        return(dist)"
   ]
  },
  {
   "cell_type": "code",
   "execution_count": 93,
   "metadata": {
    "hidden": true
   },
   "outputs": [
    {
     "data": {
      "text/html": [
       "<div>\n",
       "<style scoped>\n",
       "    .dataframe tbody tr th:only-of-type {\n",
       "        vertical-align: middle;\n",
       "    }\n",
       "\n",
       "    .dataframe tbody tr th {\n",
       "        vertical-align: top;\n",
       "    }\n",
       "\n",
       "    .dataframe thead th {\n",
       "        text-align: right;\n",
       "    }\n",
       "</style>\n",
       "<table border=\"1\" class=\"dataframe\">\n",
       "  <thead>\n",
       "    <tr style=\"text-align: right;\">\n",
       "      <th></th>\n",
       "      <th>movieId</th>\n",
       "      <th>title</th>\n",
       "      <th>genres</th>\n",
       "      <th>year</th>\n",
       "    </tr>\n",
       "  </thead>\n",
       "  <tbody>\n",
       "    <tr>\n",
       "      <th>892</th>\n",
       "      <td>1189</td>\n",
       "      <td>Thin Blue Line, The</td>\n",
       "      <td>Documentary</td>\n",
       "      <td>1988</td>\n",
       "    </tr>\n",
       "    <tr>\n",
       "      <th>9091</th>\n",
       "      <td>143410</td>\n",
       "      <td>Hyena Road</td>\n",
       "      <td>(no genres listed)</td>\n",
       "      <td>0</td>\n",
       "    </tr>\n",
       "    <tr>\n",
       "      <th>9138</th>\n",
       "      <td>147250</td>\n",
       "      <td>The Adventures of Sherlock Holmes and Doctor W...</td>\n",
       "      <td>(no genres listed)</td>\n",
       "      <td>0</td>\n",
       "    </tr>\n",
       "    <tr>\n",
       "      <th>9259</th>\n",
       "      <td>156605</td>\n",
       "      <td>Paterson</td>\n",
       "      <td>(no genres listed)</td>\n",
       "      <td>0</td>\n",
       "    </tr>\n",
       "    <tr>\n",
       "      <th>9448</th>\n",
       "      <td>167570</td>\n",
       "      <td>The OA</td>\n",
       "      <td>(no genres listed)</td>\n",
       "      <td>0</td>\n",
       "    </tr>\n",
       "    <tr>\n",
       "      <th>9514</th>\n",
       "      <td>171495</td>\n",
       "      <td>Cosmos</td>\n",
       "      <td>(no genres listed)</td>\n",
       "      <td>0</td>\n",
       "    </tr>\n",
       "    <tr>\n",
       "      <th>9515</th>\n",
       "      <td>171631</td>\n",
       "      <td>Maria Bamford: Old Baby</td>\n",
       "      <td>(no genres listed)</td>\n",
       "      <td>0</td>\n",
       "    </tr>\n",
       "    <tr>\n",
       "      <th>9518</th>\n",
       "      <td>171749</td>\n",
       "      <td>Death Note: Desu nôto (2006–2007)</td>\n",
       "      <td>(no genres listed)</td>\n",
       "      <td>0</td>\n",
       "    </tr>\n",
       "    <tr>\n",
       "      <th>9525</th>\n",
       "      <td>171891</td>\n",
       "      <td>Generation Iron 2</td>\n",
       "      <td>(no genres listed)</td>\n",
       "      <td>0</td>\n",
       "    </tr>\n",
       "    <tr>\n",
       "      <th>9611</th>\n",
       "      <td>176601</td>\n",
       "      <td>Black Mirror</td>\n",
       "      <td>(no genres listed)</td>\n",
       "      <td>0</td>\n",
       "    </tr>\n",
       "  </tbody>\n",
       "</table>\n",
       "</div>"
      ],
      "text/plain": [
       "      movieId                                              title  \\\n",
       "892      1189                               Thin Blue Line, The    \n",
       "9091   143410                                         Hyena Road   \n",
       "9138   147250  The Adventures of Sherlock Holmes and Doctor W...   \n",
       "9259   156605                                           Paterson   \n",
       "9448   167570                                             The OA   \n",
       "9514   171495                                             Cosmos   \n",
       "9515   171631                            Maria Bamford: Old Baby   \n",
       "9518   171749                  Death Note: Desu nôto (2006–2007)   \n",
       "9525   171891                                  Generation Iron 2   \n",
       "9611   176601                                       Black Mirror   \n",
       "\n",
       "                  genres  year  \n",
       "892          Documentary  1988  \n",
       "9091  (no genres listed)     0  \n",
       "9138  (no genres listed)     0  \n",
       "9259  (no genres listed)     0  \n",
       "9448  (no genres listed)     0  \n",
       "9514  (no genres listed)     0  \n",
       "9515  (no genres listed)     0  \n",
       "9518  (no genres listed)     0  \n",
       "9525  (no genres listed)     0  \n",
       "9611  (no genres listed)     0  "
      ]
     },
     "execution_count": 93,
     "metadata": {},
     "output_type": "execute_result"
    }
   ],
   "source": [
    "movies.loc[movies['movieId'].isin(top_n(minkowski_distance_check(10), 10))]"
   ]
  },
  {
   "cell_type": "code",
   "execution_count": 95,
   "metadata": {
    "hidden": true
   },
   "outputs": [],
   "source": [
    "def TF_IDF_check(userId):\n",
    "    train_ids = ratings.loc[ratings['userId']==userId]['movieId']\n",
    "    test_ids = movies.loc[~movies['movieId'].isin(train_ids)]['movieId']\n",
    "    train_tfidf_matrix=tfidf_matrix[movies.loc[movies[\"movieId\"].isin(train_ids)].index]\n",
    "    rating_vector=(ratings.loc[(ratings[\"movieId\"].isin(train_ids))&(ratings['userId']==userId)].sort_values('movieId')['rating']).to_numpy()\n",
    "    user_vector=0\n",
    "    for i in range(train_tfidf_matrix.shape[0]):\n",
    "        user_vector+=rating_vector[i]*train_tfidf_matrix[i]\n",
    "    sim={}\n",
    "    for i in movies.loc[movies[\"movieId\"].isin(test_ids)].index:\n",
    "        vector=tfidf_matrix[i].toarray()\n",
    "        i=movies.iloc[i]['movieId']\n",
    "        sim[i]=(cosine_similarity(user_vector,vector)[0][0])\n",
    "    return sim"
   ]
  },
  {
   "cell_type": "code",
   "execution_count": 96,
   "metadata": {
    "hidden": true
   },
   "outputs": [
    {
     "data": {
      "text/html": [
       "<div>\n",
       "<style scoped>\n",
       "    .dataframe tbody tr th:only-of-type {\n",
       "        vertical-align: middle;\n",
       "    }\n",
       "\n",
       "    .dataframe tbody tr th {\n",
       "        vertical-align: top;\n",
       "    }\n",
       "\n",
       "    .dataframe thead th {\n",
       "        text-align: right;\n",
       "    }\n",
       "</style>\n",
       "<table border=\"1\" class=\"dataframe\">\n",
       "  <thead>\n",
       "    <tr style=\"text-align: right;\">\n",
       "      <th></th>\n",
       "      <th>movieId</th>\n",
       "      <th>title</th>\n",
       "      <th>genres</th>\n",
       "      <th>year</th>\n",
       "    </tr>\n",
       "  </thead>\n",
       "  <tbody>\n",
       "    <tr>\n",
       "      <th>1130</th>\n",
       "      <td>1477</td>\n",
       "      <td>Love Jones</td>\n",
       "      <td>Romance</td>\n",
       "      <td>1997</td>\n",
       "    </tr>\n",
       "    <tr>\n",
       "      <th>1324</th>\n",
       "      <td>1791</td>\n",
       "      <td>Twilight</td>\n",
       "      <td>Crime|Drama|Thriller</td>\n",
       "      <td>1998</td>\n",
       "    </tr>\n",
       "    <tr>\n",
       "      <th>1577</th>\n",
       "      <td>2116</td>\n",
       "      <td>Lord of the Rings, The</td>\n",
       "      <td>Adventure|Animation|Children|Fantasy</td>\n",
       "      <td>1978</td>\n",
       "    </tr>\n",
       "    <tr>\n",
       "      <th>3819</th>\n",
       "      <td>5349</td>\n",
       "      <td>Spider-Man</td>\n",
       "      <td>Action|Adventure|Sci-Fi|Thriller</td>\n",
       "      <td>2002</td>\n",
       "    </tr>\n",
       "    <tr>\n",
       "      <th>5514</th>\n",
       "      <td>26492</td>\n",
       "      <td>Twilight Zone: The Movie</td>\n",
       "      <td>Fantasy|Horror|Sci-Fi|Thriller</td>\n",
       "      <td>1983</td>\n",
       "    </tr>\n",
       "    <tr>\n",
       "      <th>6470</th>\n",
       "      <td>52722</td>\n",
       "      <td>Spider-Man 3</td>\n",
       "      <td>Action|Adventure|Sci-Fi|Thriller|IMAX</td>\n",
       "      <td>2007</td>\n",
       "    </tr>\n",
       "    <tr>\n",
       "      <th>6987</th>\n",
       "      <td>67087</td>\n",
       "      <td>I Love You, Man</td>\n",
       "      <td>Comedy</td>\n",
       "      <td>2009</td>\n",
       "    </tr>\n",
       "    <tr>\n",
       "      <th>8032</th>\n",
       "      <td>98124</td>\n",
       "      <td>Batman: The Dark Knight Returns, Part 1</td>\n",
       "      <td>Action|Animation|Sci-Fi</td>\n",
       "      <td>2012</td>\n",
       "    </tr>\n",
       "    <tr>\n",
       "      <th>8080</th>\n",
       "      <td>99813</td>\n",
       "      <td>Batman: The Dark Knight Returns, Part 2</td>\n",
       "      <td>Action|Animation</td>\n",
       "      <td>2013</td>\n",
       "    </tr>\n",
       "    <tr>\n",
       "      <th>9535</th>\n",
       "      <td>172547</td>\n",
       "      <td>Despicable Me 3</td>\n",
       "      <td>Adventure|Animation|Children|Comedy</td>\n",
       "      <td>2017</td>\n",
       "    </tr>\n",
       "  </tbody>\n",
       "</table>\n",
       "</div>"
      ],
      "text/plain": [
       "      movieId                                     title  \\\n",
       "1130     1477                               Love Jones    \n",
       "1324     1791                                 Twilight    \n",
       "1577     2116                   Lord of the Rings, The    \n",
       "3819     5349                               Spider-Man    \n",
       "5514    26492                 Twilight Zone: The Movie    \n",
       "6470    52722                             Spider-Man 3    \n",
       "6987    67087                          I Love You, Man    \n",
       "8032    98124  Batman: The Dark Knight Returns, Part 1    \n",
       "8080    99813  Batman: The Dark Knight Returns, Part 2    \n",
       "9535   172547                          Despicable Me 3    \n",
       "\n",
       "                                     genres  year  \n",
       "1130                                Romance  1997  \n",
       "1324                   Crime|Drama|Thriller  1998  \n",
       "1577   Adventure|Animation|Children|Fantasy  1978  \n",
       "3819       Action|Adventure|Sci-Fi|Thriller  2002  \n",
       "5514         Fantasy|Horror|Sci-Fi|Thriller  1983  \n",
       "6470  Action|Adventure|Sci-Fi|Thriller|IMAX  2007  \n",
       "6987                                 Comedy  2009  \n",
       "8032                Action|Animation|Sci-Fi  2012  \n",
       "8080                       Action|Animation  2013  \n",
       "9535    Adventure|Animation|Children|Comedy  2017  "
      ]
     },
     "execution_count": 96,
     "metadata": {},
     "output_type": "execute_result"
    }
   ],
   "source": [
    "movies.loc[movies['movieId'].isin(top_n(TF_IDF_check(10), 10))]"
   ]
  }
 ],
 "metadata": {
  "kernelspec": {
   "display_name": "Python 3",
   "language": "python",
   "name": "python3"
  },
  "language_info": {
   "codemirror_mode": {
    "name": "ipython",
    "version": 3
   },
   "file_extension": ".py",
   "mimetype": "text/x-python",
   "name": "python",
   "nbconvert_exporter": "python",
   "pygments_lexer": "ipython3",
   "version": "3.8.5"
  },
  "toc": {
   "base_numbering": 1,
   "nav_menu": {},
   "number_sections": true,
   "sideBar": true,
   "skip_h1_title": false,
   "title_cell": "Table of Contents",
   "title_sidebar": "Contents",
   "toc_cell": false,
   "toc_position": {},
   "toc_section_display": true,
   "toc_window_display": false
  }
 },
 "nbformat": 4,
 "nbformat_minor": 4
}
